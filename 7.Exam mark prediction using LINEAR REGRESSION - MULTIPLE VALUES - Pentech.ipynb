{
 "cells": [
  {
   "cell_type": "markdown",
   "metadata": {},
   "source": [
    "## Importing Libraries"
   ]
  },
  {
   "cell_type": "code",
   "execution_count": null,
   "metadata": {},
   "outputs": [],
   "source": [
    "import pandas as pd              #Useful for loading the data set\n",
    "import matplotlib.pyplot as plt"
   ]
  },
  {
   "cell_type": "markdown",
   "metadata": {},
   "source": [
    "## Load Data"
   ]
  },
  {
   "cell_type": "code",
   "execution_count": 2,
   "metadata": {},
   "outputs": [],
   "source": [
    "dataset=pd.read_csv(\"data.csv\")"
   ]
  },
  {
   "cell_type": "code",
   "execution_count": 3,
   "metadata": {},
   "outputs": [
    {
     "data": {
      "text/html": [
       "<div>\n",
       "<style scoped>\n",
       "    .dataframe tbody tr th:only-of-type {\n",
       "        vertical-align: middle;\n",
       "    }\n",
       "\n",
       "    .dataframe tbody tr th {\n",
       "        vertical-align: top;\n",
       "    }\n",
       "\n",
       "    .dataframe thead th {\n",
       "        text-align: right;\n",
       "    }\n",
       "</style>\n",
       "<table border=\"1\" class=\"dataframe\">\n",
       "  <thead>\n",
       "    <tr style=\"text-align: right;\">\n",
       "      <th></th>\n",
       "      <th>hours</th>\n",
       "      <th>age</th>\n",
       "      <th>internet</th>\n",
       "      <th>marks</th>\n",
       "    </tr>\n",
       "  </thead>\n",
       "  <tbody>\n",
       "    <tr>\n",
       "      <th>0</th>\n",
       "      <td>6.83</td>\n",
       "      <td>15</td>\n",
       "      <td>1</td>\n",
       "      <td>78.50</td>\n",
       "    </tr>\n",
       "    <tr>\n",
       "      <th>1</th>\n",
       "      <td>6.56</td>\n",
       "      <td>16</td>\n",
       "      <td>0</td>\n",
       "      <td>76.74</td>\n",
       "    </tr>\n",
       "    <tr>\n",
       "      <th>2</th>\n",
       "      <td>NaN</td>\n",
       "      <td>17</td>\n",
       "      <td>1</td>\n",
       "      <td>78.68</td>\n",
       "    </tr>\n",
       "    <tr>\n",
       "      <th>3</th>\n",
       "      <td>5.67</td>\n",
       "      <td>18</td>\n",
       "      <td>0</td>\n",
       "      <td>71.82</td>\n",
       "    </tr>\n",
       "    <tr>\n",
       "      <th>4</th>\n",
       "      <td>8.67</td>\n",
       "      <td>19</td>\n",
       "      <td>1</td>\n",
       "      <td>84.19</td>\n",
       "    </tr>\n",
       "    <tr>\n",
       "      <th>...</th>\n",
       "      <td>...</td>\n",
       "      <td>...</td>\n",
       "      <td>...</td>\n",
       "      <td>...</td>\n",
       "    </tr>\n",
       "    <tr>\n",
       "      <th>196</th>\n",
       "      <td>8.56</td>\n",
       "      <td>19</td>\n",
       "      <td>1</td>\n",
       "      <td>84.68</td>\n",
       "    </tr>\n",
       "    <tr>\n",
       "      <th>197</th>\n",
       "      <td>8.94</td>\n",
       "      <td>20</td>\n",
       "      <td>1</td>\n",
       "      <td>86.75</td>\n",
       "    </tr>\n",
       "    <tr>\n",
       "      <th>198</th>\n",
       "      <td>6.60</td>\n",
       "      <td>15</td>\n",
       "      <td>1</td>\n",
       "      <td>78.05</td>\n",
       "    </tr>\n",
       "    <tr>\n",
       "      <th>199</th>\n",
       "      <td>8.35</td>\n",
       "      <td>16</td>\n",
       "      <td>1</td>\n",
       "      <td>83.50</td>\n",
       "    </tr>\n",
       "    <tr>\n",
       "      <th>200</th>\n",
       "      <td>4.15</td>\n",
       "      <td>15</td>\n",
       "      <td>0</td>\n",
       "      <td>81.45</td>\n",
       "    </tr>\n",
       "  </tbody>\n",
       "</table>\n",
       "<p>201 rows × 4 columns</p>\n",
       "</div>"
      ],
      "text/plain": [
       "     hours  age  internet  marks\n",
       "0     6.83   15         1  78.50\n",
       "1     6.56   16         0  76.74\n",
       "2      NaN   17         1  78.68\n",
       "3     5.67   18         0  71.82\n",
       "4     8.67   19         1  84.19\n",
       "..     ...  ...       ...    ...\n",
       "196   8.56   19         1  84.68\n",
       "197   8.94   20         1  86.75\n",
       "198   6.60   15         1  78.05\n",
       "199   8.35   16         1  83.50\n",
       "200   4.15   15         0  81.45\n",
       "\n",
       "[201 rows x 4 columns]"
      ]
     },
     "execution_count": 3,
     "metadata": {},
     "output_type": "execute_result"
    }
   ],
   "source": [
    "dataset"
   ]
  },
  {
   "cell_type": "markdown",
   "metadata": {},
   "source": [
    "- dataset variable set hold the complete information of dataset."
   ]
  },
  {
   "cell_type": "code",
   "execution_count": 4,
   "metadata": {},
   "outputs": [
    {
     "name": "stdout",
     "output_type": "stream",
     "text": [
      "(201, 4)\n",
      "   hours  age  internet  marks\n",
      "0   6.83   15         1  78.50\n",
      "1   6.56   16         0  76.74\n",
      "2    NaN   17         1  78.68\n",
      "3   5.67   18         0  71.82\n",
      "4   8.67   19         1  84.19\n"
     ]
    }
   ],
   "source": [
    "print(dataset.shape)\n",
    "print(dataset.head(5))"
   ]
  },
  {
   "cell_type": "markdown",
   "metadata": {},
   "source": [
    "- Here we get the complete information of dataset \n",
    "- dataset(dataset.shape) - It shows 201 Columns and 4 Rows\n",
    "- dataset(dataset.shape) - It shows top 5 results of the dataset"
   ]
  },
  {
   "cell_type": "markdown",
   "metadata": {},
   "source": [
    "## Finding and removing NA values from our Features X"
   ]
  },
  {
   "cell_type": "code",
   "execution_count": 6,
   "metadata": {},
   "outputs": [
    {
     "data": {
      "text/plain": [
       "Index(['hours'], dtype='object')"
      ]
     },
     "execution_count": 6,
     "metadata": {},
     "output_type": "execute_result"
    }
   ],
   "source": [
    "dataset.columns[dataset.isna().any()]"
   ]
  },
  {
   "cell_type": "code",
   "execution_count": 8,
   "metadata": {},
   "outputs": [],
   "source": [
    "dataset.hours=dataset.hours.fillna(dataset.hours.mean())"
   ]
  },
  {
   "cell_type": "code",
   "execution_count": 9,
   "metadata": {},
   "outputs": [
    {
     "data": {
      "text/plain": [
       "0      6.830000\n",
       "1      6.560000\n",
       "2      6.981429\n",
       "3      5.670000\n",
       "4      8.670000\n",
       "         ...   \n",
       "196    8.560000\n",
       "197    8.940000\n",
       "198    6.600000\n",
       "199    8.350000\n",
       "200    4.150000\n",
       "Name: hours, Length: 201, dtype: float64"
      ]
     },
     "execution_count": 9,
     "metadata": {},
     "output_type": "execute_result"
    }
   ],
   "source": [
    "dataset.hours"
   ]
  },
  {
   "cell_type": "markdown",
   "metadata": {},
   "source": [
    "- Here we check null values from our Features X and fill it."
   ]
  },
  {
   "cell_type": "markdown",
   "metadata": {},
   "source": [
    "## Segregate data into X and Y"
   ]
  },
  {
   "cell_type": "code",
   "execution_count": 12,
   "metadata": {},
   "outputs": [],
   "source": [
    "X=dataset.iloc[:,:-1].values"
   ]
  },
  {
   "cell_type": "code",
   "execution_count": 13,
   "metadata": {},
   "outputs": [
    {
     "data": {
      "text/plain": [
       "array([[ 6.83      , 15.        ,  1.        ],\n",
       "       [ 6.56      , 16.        ,  0.        ],\n",
       "       [ 6.98142857, 17.        ,  1.        ],\n",
       "       [ 5.67      , 18.        ,  0.        ],\n",
       "       [ 8.67      , 19.        ,  1.        ],\n",
       "       [ 7.55      , 20.        ,  0.        ],\n",
       "       [ 6.67      , 15.        ,  0.        ],\n",
       "       [ 8.99      , 16.        ,  0.        ],\n",
       "       [ 5.19      , 17.        ,  1.        ],\n",
       "       [ 6.75      , 18.        ,  0.        ],\n",
       "       [ 6.59      , 19.        ,  0.        ],\n",
       "       [ 8.56      , 20.        ,  1.        ],\n",
       "       [ 7.75      , 15.        ,  0.        ],\n",
       "       [ 7.9       , 16.        ,  1.        ],\n",
       "       [ 8.19      , 17.        ,  0.        ],\n",
       "       [ 6.55      , 18.        ,  1.        ],\n",
       "       [ 6.36      , 19.        ,  0.        ],\n",
       "       [ 8.44      , 20.        ,  1.        ],\n",
       "       [ 8.41      , 15.        ,  0.        ],\n",
       "       [ 7.67      , 16.        ,  1.        ],\n",
       "       [ 7.42      , 17.        ,  1.        ],\n",
       "       [ 8.16      , 18.        ,  1.        ],\n",
       "       [ 5.05      , 19.        ,  1.        ],\n",
       "       [ 5.85      , 20.        ,  1.        ],\n",
       "       [ 5.45      , 15.        ,  0.        ],\n",
       "       [ 7.96      , 16.        ,  0.        ],\n",
       "       [ 6.51      , 17.        ,  0.        ],\n",
       "       [ 6.73      , 18.        ,  0.        ],\n",
       "       [ 5.94      , 19.        ,  1.        ],\n",
       "       [ 7.48      , 20.        ,  0.        ],\n",
       "       [ 8.13      , 15.        ,  1.        ],\n",
       "       [ 6.98142857, 16.        ,  1.        ],\n",
       "       [ 5.4       , 17.        ,  1.        ],\n",
       "       [ 8.78      , 18.        ,  0.        ],\n",
       "       [ 8.72      , 19.        ,  1.        ],\n",
       "       [ 7.1       , 20.        ,  0.        ],\n",
       "       [ 7.86      , 15.        ,  1.        ],\n",
       "       [ 7.19      , 16.        ,  0.        ],\n",
       "       [ 5.62      , 17.        ,  1.        ],\n",
       "       [ 7.88      , 18.        ,  0.        ],\n",
       "       [ 5.28      , 19.        ,  1.        ],\n",
       "       [ 8.92      , 20.        ,  1.        ],\n",
       "       [ 5.46      , 15.        ,  0.        ],\n",
       "       [ 8.3       , 16.        ,  1.        ],\n",
       "       [ 8.09      , 17.        ,  0.        ],\n",
       "       [ 6.18      , 18.        ,  1.        ],\n",
       "       [ 7.01      , 19.        ,  1.        ],\n",
       "       [ 5.01      , 20.        ,  0.        ],\n",
       "       [ 5.54      , 15.        ,  1.        ],\n",
       "       [ 5.09      , 16.        ,  1.        ],\n",
       "       [ 5.09      , 17.        ,  0.        ],\n",
       "       [ 7.31      , 18.        ,  1.        ],\n",
       "       [ 8.71      , 19.        ,  0.        ],\n",
       "       [ 5.52      , 20.        ,  1.        ],\n",
       "       [ 8.76      , 15.        ,  0.        ],\n",
       "       [ 8.69      , 16.        ,  1.        ],\n",
       "       [ 5.75      , 17.        ,  1.        ],\n",
       "       [ 8.93      , 18.        ,  1.        ],\n",
       "       [ 5.39      , 19.        ,  1.        ],\n",
       "       [ 5.65      , 20.        ,  0.        ],\n",
       "       [ 5.49      , 15.        ,  1.        ],\n",
       "       [ 7.26      , 16.        ,  1.        ],\n",
       "       [ 6.35      , 17.        ,  0.        ],\n",
       "       [ 7.72      , 18.        ,  1.        ],\n",
       "       [ 8.88      , 19.        ,  0.        ],\n",
       "       [ 5.45      , 20.        ,  1.        ],\n",
       "       [ 7.86      , 15.        ,  1.        ],\n",
       "       [ 8.26      , 16.        ,  0.        ],\n",
       "       [ 5.07      , 17.        ,  1.        ],\n",
       "       [ 8.25      , 18.        ,  0.        ],\n",
       "       [ 5.37      , 19.        ,  1.        ],\n",
       "       [ 5.11      , 20.        ,  1.        ],\n",
       "       [ 6.35      , 15.        ,  0.        ],\n",
       "       [ 7.41      , 16.        ,  1.        ],\n",
       "       [ 7.31      , 17.        ,  0.        ],\n",
       "       [ 6.04      , 18.        ,  1.        ],\n",
       "       [ 5.11      , 19.        ,  1.        ],\n",
       "       [ 6.56      , 20.        ,  0.        ],\n",
       "       [ 5.09      , 15.        ,  1.        ],\n",
       "       [ 5.88      , 16.        ,  0.        ],\n",
       "       [ 8.34      , 17.        ,  1.        ],\n",
       "       [ 7.94      , 18.        ,  0.        ],\n",
       "       [ 6.66      , 19.        ,  1.        ],\n",
       "       [ 6.01      , 20.        ,  1.        ],\n",
       "       [ 6.88      , 15.        ,  0.        ],\n",
       "       [ 5.63      , 16.        ,  1.        ],\n",
       "       [ 5.88      , 17.        ,  0.        ],\n",
       "       [ 8.05      , 18.        ,  1.        ],\n",
       "       [ 5.33      , 19.        ,  0.        ],\n",
       "       [ 8.79      , 20.        ,  0.        ],\n",
       "       [ 7.52      , 15.        ,  1.        ],\n",
       "       [ 8.2       , 16.        ,  0.        ],\n",
       "       [ 5.44      , 17.        ,  1.        ],\n",
       "       [ 7.9       , 18.        ,  0.        ],\n",
       "       [ 7.69      , 19.        ,  1.        ],\n",
       "       [ 6.09      , 20.        ,  0.        ],\n",
       "       [ 6.98142857, 15.        ,  1.        ],\n",
       "       [ 5.2       , 16.        ,  1.        ],\n",
       "       [ 8.88      , 17.        ,  0.        ],\n",
       "       [ 8.07      , 18.        ,  1.        ],\n",
       "       [ 6.24      , 19.        ,  1.        ],\n",
       "       [ 7.95      , 20.        ,  0.        ],\n",
       "       [ 8.26      , 15.        ,  0.        ],\n",
       "       [ 7.31      , 16.        ,  1.        ],\n",
       "       [ 7.23      , 17.        ,  1.        ],\n",
       "       [ 6.46      , 18.        ,  1.        ],\n",
       "       [ 5.34      , 19.        ,  1.        ],\n",
       "       [ 5.72      , 20.        ,  1.        ],\n",
       "       [ 5.84      , 15.        ,  0.        ],\n",
       "       [ 5.02      , 16.        ,  1.        ],\n",
       "       [ 7.98      , 17.        ,  0.        ],\n",
       "       [ 6.37      , 18.        ,  1.        ],\n",
       "       [ 6.92      , 19.        ,  0.        ],\n",
       "       [ 7.95      , 20.        ,  1.        ],\n",
       "       [ 7.12      , 15.        ,  0.        ],\n",
       "       [ 5.79      , 16.        ,  1.        ],\n",
       "       [ 5.4       , 17.        ,  0.        ],\n",
       "       [ 8.83      , 18.        ,  1.        ],\n",
       "       [ 5.69      , 19.        ,  0.        ],\n",
       "       [ 6.6       , 20.        ,  1.        ],\n",
       "       [ 6.52      , 15.        ,  0.        ],\n",
       "       [ 8.31      , 16.        ,  0.        ],\n",
       "       [ 6.98142857, 17.        ,  1.        ],\n",
       "       [ 7.62      , 18.        ,  0.        ],\n",
       "       [ 8.69      , 19.        ,  1.        ],\n",
       "       [ 8.75      , 20.        ,  0.        ],\n",
       "       [ 6.46      , 15.        ,  1.        ],\n",
       "       [ 7.14      , 16.        ,  1.        ],\n",
       "       [ 6.38      , 17.        ,  0.        ],\n",
       "       [ 6.33      , 18.        ,  1.        ],\n",
       "       [ 5.64      , 19.        ,  0.        ],\n",
       "       [ 5.26      , 20.        ,  1.        ],\n",
       "       [ 6.83      , 15.        ,  1.        ],\n",
       "       [ 5.76      , 16.        ,  0.        ],\n",
       "       [ 6.51      , 17.        ,  1.        ],\n",
       "       [ 8.33      , 18.        ,  0.        ],\n",
       "       [ 8.16      , 19.        ,  1.        ],\n",
       "       [ 5.14      , 20.        ,  0.        ],\n",
       "       [ 8.71      , 15.        ,  0.        ],\n",
       "       [ 8.6       , 16.        ,  1.        ],\n",
       "       [ 8.6       , 17.        ,  0.        ],\n",
       "       [ 7.43      , 18.        ,  1.        ],\n",
       "       [ 7.81      , 19.        ,  1.        ],\n",
       "       [ 6.51      , 20.        ,  0.        ],\n",
       "       [ 8.11      , 15.        ,  1.        ],\n",
       "       [ 8.95      , 16.        ,  0.        ],\n",
       "       [ 7.99      , 17.        ,  1.        ],\n",
       "       [ 5.92      , 18.        ,  0.        ],\n",
       "       [ 8.3       , 19.        ,  1.        ],\n",
       "       [ 8.97      , 20.        ,  0.        ],\n",
       "       [ 5.39      , 15.        ,  0.        ],\n",
       "       [ 6.77      , 16.        ,  0.        ],\n",
       "       [ 8.08      , 17.        ,  1.        ],\n",
       "       [ 5.24      , 18.        ,  0.        ],\n",
       "       [ 6.93      , 19.        ,  1.        ],\n",
       "       [ 5.14      , 20.        ,  0.        ],\n",
       "       [ 8.39      , 15.        ,  1.        ],\n",
       "       [ 6.18      , 16.        ,  0.        ],\n",
       "       [ 7.53      , 17.        ,  1.        ],\n",
       "       [ 7.86      , 18.        ,  0.        ],\n",
       "       [ 7.7       , 19.        ,  1.        ],\n",
       "       [ 7.3       , 20.        ,  0.        ],\n",
       "       [ 7.79      , 15.        ,  1.        ],\n",
       "       [ 6.75      , 16.        ,  0.        ],\n",
       "       [ 7.87      , 17.        ,  1.        ],\n",
       "       [ 5.38      , 18.        ,  0.        ],\n",
       "       [ 7.8       , 19.        ,  1.        ],\n",
       "       [ 5.07      , 20.        ,  0.        ],\n",
       "       [ 7.95      , 15.        ,  1.        ],\n",
       "       [ 8.35      , 16.        ,  0.        ],\n",
       "       [ 5.19      , 17.        ,  0.        ],\n",
       "       [ 7.19      , 18.        ,  0.        ],\n",
       "       [ 7.35      , 19.        ,  1.        ],\n",
       "       [ 5.22      , 20.        ,  1.        ],\n",
       "       [ 5.39      , 15.        ,  1.        ],\n",
       "       [ 5.39      , 16.        ,  1.        ],\n",
       "       [ 8.93      , 17.        ,  1.        ],\n",
       "       [ 5.79      , 18.        ,  0.        ],\n",
       "       [ 8.42      , 19.        ,  1.        ],\n",
       "       [ 7.26      , 20.        ,  0.        ],\n",
       "       [ 6.97      , 15.        ,  1.        ],\n",
       "       [ 5.55      , 16.        ,  1.        ],\n",
       "       [ 8.66      , 17.        ,  0.        ],\n",
       "       [ 8.61      , 18.        ,  1.        ],\n",
       "       [ 5.22      , 19.        ,  1.        ],\n",
       "       [ 8.05      , 20.        ,  0.        ],\n",
       "       [ 8.87      , 15.        ,  1.        ],\n",
       "       [ 5.54      , 16.        ,  0.        ],\n",
       "       [ 6.98142857, 17.        ,  0.        ],\n",
       "       [ 7.26      , 18.        ,  1.        ],\n",
       "       [ 5.79      , 19.        ,  0.        ],\n",
       "       [ 5.22      , 20.        ,  0.        ],\n",
       "       [ 8.71      , 15.        ,  1.        ],\n",
       "       [ 7.55      , 16.        ,  1.        ],\n",
       "       [ 6.35      , 17.        ,  1.        ],\n",
       "       [ 7.53      , 18.        ,  0.        ],\n",
       "       [ 8.56      , 19.        ,  1.        ],\n",
       "       [ 8.94      , 20.        ,  1.        ],\n",
       "       [ 6.6       , 15.        ,  1.        ],\n",
       "       [ 8.35      , 16.        ,  1.        ],\n",
       "       [ 4.15      , 15.        ,  0.        ]])"
      ]
     },
     "execution_count": 13,
     "metadata": {},
     "output_type": "execute_result"
    }
   ],
   "source": [
    "X"
   ]
  },
  {
   "cell_type": "markdown",
   "metadata": {},
   "source": [
    "- Here we got the values of X"
   ]
  },
  {
   "cell_type": "code",
   "execution_count": 16,
   "metadata": {},
   "outputs": [],
   "source": [
    "Y=dataset.iloc[:,-1].values"
   ]
  },
  {
   "cell_type": "code",
   "execution_count": 17,
   "metadata": {},
   "outputs": [
    {
     "data": {
      "text/plain": [
       "array([78.5 , 76.74, 78.68, 71.82, 84.19, 81.18, 76.99, 85.46, 70.66,\n",
       "       77.82, 75.37, 83.88, 79.5 , 80.76, 83.08, 76.03, 76.04, 85.11,\n",
       "       82.5 , 80.58, 82.18, 83.36, 70.67, 75.02, 70.96, 83.33, 74.75,\n",
       "       75.65, 74.15, 80.17, 82.27, 76.14, 71.1 , 84.35, 83.08, 76.76,\n",
       "       81.24, 78.21, 73.08, 83.23, 70.27, 86.41, 71.1 , 82.84, 82.38,\n",
       "       72.96, 77.46, 70.11, 72.38, 71.41, 72.22, 77.77, 84.44, 71.45,\n",
       "       82.21, 85.48, 75.03, 86.65, 70.9 , 71.7 , 73.61, 79.41, 76.19,\n",
       "       80.43, 85.78, 70.06, 81.25, 81.7 , 69.27, 82.79, 71.8 , 71.79,\n",
       "       74.97, 78.61, 77.59, 72.33, 72.08, 77.33, 70.05, 73.34, 84.  ,\n",
       "       82.93, 76.63, 75.36, 77.29, 72.87, 73.4 , 81.74, 71.85, 84.6 ,\n",
       "       79.56, 82.1 , 72.08, 79.1 , 81.01, 76.48, 75.39, 68.57, 83.64,\n",
       "       82.3 , 75.18, 82.03, 82.99, 79.26, 77.55, 77.07, 72.1 , 73.25,\n",
       "       74.25, 70.58, 81.08, 75.04, 76.38, 80.86, 78.42, 74.44, 70.34,\n",
       "       85.04, 73.61, 75.55, 76.2 , 82.69, 76.83, 79.53, 83.57, 85.95,\n",
       "       76.02, 77.65, 77.01, 74.49, 73.19, 71.86, 75.8 , 72.46, 78.39,\n",
       "       83.48, 83.15, 71.22, 85.98, 83.91, 84.58, 80.31, 82.55, 75.52,\n",
       "       83.82, 85.15, 82.75, 74.34, 82.02, 86.12, 71.87, 76.7 , 81.7 ,\n",
       "       70.78, 78.45, 70.2 , 83.37, 75.52, 81.57, 80.72, 80.81, 79.49,\n",
       "       79.17, 77.07, 82.04, 71.94, 81.6 , 70.79, 82.68, 83.08, 71.18,\n",
       "       77.63, 77.78, 70.4 , 73.02, 71.11, 85.96, 73.64, 84.24, 78.17,\n",
       "       77.19, 71.83, 86.99, 83.87, 71.5 , 79.63, 85.1 , 72.01, 77.27,\n",
       "       79.87, 73.14, 70.51, 84.03, 79.64, 74.24, 81.67, 84.68, 86.75,\n",
       "       78.05, 83.5 , 81.45])"
      ]
     },
     "execution_count": 17,
     "metadata": {},
     "output_type": "execute_result"
    }
   ],
   "source": [
    "Y"
   ]
  },
  {
   "cell_type": "code",
   "execution_count": null,
   "metadata": {},
   "outputs": [],
   "source": [
    "- Here we got the values of Y"
   ]
  },
  {
   "cell_type": "markdown",
   "metadata": {},
   "source": [
    "## Training Dataset using Linear Regression"
   ]
  },
  {
   "cell_type": "code",
   "execution_count": 18,
   "metadata": {},
   "outputs": [],
   "source": [
    "from sklearn.linear_model import LinearRegression"
   ]
  },
  {
   "cell_type": "code",
   "execution_count": 19,
   "metadata": {},
   "outputs": [],
   "source": [
    "model=LinearRegression()"
   ]
  },
  {
   "cell_type": "code",
   "execution_count": 20,
   "metadata": {},
   "outputs": [
    {
     "data": {
      "text/plain": [
       "LinearRegression()"
      ]
     },
     "execution_count": 20,
     "metadata": {},
     "output_type": "execute_result"
    }
   ],
   "source": [
    "model.fit(X,Y)"
   ]
  },
  {
   "cell_type": "markdown",
   "metadata": {},
   "source": [
    "- Here we are using Linear Regression for our data set"
   ]
  },
  {
   "cell_type": "markdown",
   "metadata": {},
   "source": [
    "## predicted price for land sq.feet of custom values "
   ]
  },
  {
   "cell_type": "code",
   "execution_count": 24,
   "metadata": {},
   "outputs": [
    {
     "name": "stdout",
     "output_type": "stream",
     "text": [
      "[141.58023867]\n"
     ]
    }
   ],
   "source": [
    "a=[[24,27,5]]\n",
    "PredictedModelResult=model.predict(a)\n",
    "print(PredictedModelResult)"
   ]
  },
  {
   "cell_type": "markdown",
   "metadata": {},
   "source": [
    "- Conclusion - predicted price for land sq.feet of custom values is 141.58023867"
   ]
  },
  {
   "cell_type": "code",
   "execution_count": null,
   "metadata": {},
   "outputs": [],
   "source": []
  }
 ],
 "metadata": {
  "kernelspec": {
   "display_name": "Python 3",
   "language": "python",
   "name": "python3"
  },
  "language_info": {
   "codemirror_mode": {
    "name": "ipython",
    "version": 3
   },
   "file_extension": ".py",
   "mimetype": "text/x-python",
   "name": "python",
   "nbconvert_exporter": "python",
   "pygments_lexer": "ipython3",
   "version": "3.8.5"
  }
 },
 "nbformat": 4,
 "nbformat_minor": 4
}
