{
 "cells": [
  {
   "cell_type": "markdown",
   "metadata": {},
   "source": [
    "## Importing Libraries "
   ]
  },
  {
   "cell_type": "code",
   "execution_count": 1,
   "metadata": {},
   "outputs": [],
   "source": [
    "import pandas as pd      #Useful for loading the data set\n",
    "import numpy as np       #To perform array"
   ]
  },
  {
   "cell_type": "markdown",
   "metadata": {},
   "source": [
    "## Load dataset"
   ]
  },
  {
   "cell_type": "code",
   "execution_count": 2,
   "metadata": {},
   "outputs": [],
   "source": [
    "dataset=pd.read_csv(\"data.csv\")"
   ]
  },
  {
   "cell_type": "code",
   "execution_count": 3,
   "metadata": {},
   "outputs": [
    {
     "data": {
      "text/html": [
       "<div>\n",
       "<style scoped>\n",
       "    .dataframe tbody tr th:only-of-type {\n",
       "        vertical-align: middle;\n",
       "    }\n",
       "\n",
       "    .dataframe tbody tr th {\n",
       "        vertical-align: top;\n",
       "    }\n",
       "\n",
       "    .dataframe thead th {\n",
       "        text-align: right;\n",
       "    }\n",
       "</style>\n",
       "<table border=\"1\" class=\"dataframe\">\n",
       "  <thead>\n",
       "    <tr style=\"text-align: right;\">\n",
       "      <th></th>\n",
       "      <th>x</th>\n",
       "      <th>y</th>\n",
       "    </tr>\n",
       "  </thead>\n",
       "  <tbody>\n",
       "    <tr>\n",
       "      <th>0</th>\n",
       "      <td>168.181818</td>\n",
       "      <td>160.840244</td>\n",
       "    </tr>\n",
       "    <tr>\n",
       "      <th>1</th>\n",
       "      <td>187.878788</td>\n",
       "      <td>159.413657</td>\n",
       "    </tr>\n",
       "    <tr>\n",
       "      <th>2</th>\n",
       "      <td>207.575758</td>\n",
       "      <td>157.136809</td>\n",
       "    </tr>\n",
       "    <tr>\n",
       "      <th>3</th>\n",
       "      <td>227.272727</td>\n",
       "      <td>159.357847</td>\n",
       "    </tr>\n",
       "    <tr>\n",
       "      <th>4</th>\n",
       "      <td>246.969697</td>\n",
       "      <td>157.542862</td>\n",
       "    </tr>\n",
       "    <tr>\n",
       "      <th>...</th>\n",
       "      <td>...</td>\n",
       "      <td>...</td>\n",
       "    </tr>\n",
       "    <tr>\n",
       "      <th>89</th>\n",
       "      <td>1921.212121</td>\n",
       "      <td>172.285091</td>\n",
       "    </tr>\n",
       "    <tr>\n",
       "      <th>90</th>\n",
       "      <td>1940.909091</td>\n",
       "      <td>176.001331</td>\n",
       "    </tr>\n",
       "    <tr>\n",
       "      <th>91</th>\n",
       "      <td>1960.606061</td>\n",
       "      <td>176.128171</td>\n",
       "    </tr>\n",
       "    <tr>\n",
       "      <th>92</th>\n",
       "      <td>1980.303030</td>\n",
       "      <td>175.813257</td>\n",
       "    </tr>\n",
       "    <tr>\n",
       "      <th>93</th>\n",
       "      <td>2000.000000</td>\n",
       "      <td>175.530826</td>\n",
       "    </tr>\n",
       "  </tbody>\n",
       "</table>\n",
       "<p>94 rows × 2 columns</p>\n",
       "</div>"
      ],
      "text/plain": [
       "              x           y\n",
       "0    168.181818  160.840244\n",
       "1    187.878788  159.413657\n",
       "2    207.575758  157.136809\n",
       "3    227.272727  159.357847\n",
       "4    246.969697  157.542862\n",
       "..          ...         ...\n",
       "89  1921.212121  172.285091\n",
       "90  1940.909091  176.001331\n",
       "91  1960.606061  176.128171\n",
       "92  1980.303030  175.813257\n",
       "93  2000.000000  175.530826\n",
       "\n",
       "[94 rows x 2 columns]"
      ]
     },
     "execution_count": 3,
     "metadata": {},
     "output_type": "execute_result"
    }
   ],
   "source": [
    "dataset"
   ]
  },
  {
   "cell_type": "markdown",
   "metadata": {},
   "source": [
    "- dataset variable set hold the complete information of dataset."
   ]
  },
  {
   "cell_type": "markdown",
   "metadata": {},
   "source": [
    "## Summarise the data"
   ]
  },
  {
   "cell_type": "code",
   "execution_count": 4,
   "metadata": {},
   "outputs": [
    {
     "name": "stdout",
     "output_type": "stream",
     "text": [
      "(94, 2)\n",
      "            x           y\n",
      "0  168.181818  160.840244\n",
      "1  187.878788  159.413657\n",
      "2  207.575758  157.136809\n",
      "3  227.272727  159.357847\n",
      "4  246.969697  157.542862\n"
     ]
    }
   ],
   "source": [
    "print(dataset.shape)\n",
    "print(dataset.head(5))"
   ]
  },
  {
   "cell_type": "markdown",
   "metadata": {},
   "source": [
    "- Here we get the complete information of dataset \n",
    "- dataset(dataset.shape) - It shows 94 Columns and 2 Rows\n",
    "- dataset(dataset.shape) - It shows top 5 results of the dataset"
   ]
  },
  {
   "cell_type": "markdown",
   "metadata": {},
   "source": [
    "## Segredate the data into X and Y"
   ]
  },
  {
   "cell_type": "code",
   "execution_count": 5,
   "metadata": {},
   "outputs": [],
   "source": [
    "X=dataset.iloc[:, :-1].values"
   ]
  },
  {
   "cell_type": "code",
   "execution_count": 6,
   "metadata": {},
   "outputs": [
    {
     "data": {
      "text/plain": [
       "array([[ 168.1818182],\n",
       "       [ 187.8787879],\n",
       "       [ 207.5757576],\n",
       "       [ 227.2727273],\n",
       "       [ 246.969697 ],\n",
       "       [ 266.6666667],\n",
       "       [ 286.3636364],\n",
       "       [ 306.0606061],\n",
       "       [ 325.7575758],\n",
       "       [ 345.4545455],\n",
       "       [ 365.1515152],\n",
       "       [ 384.8484848],\n",
       "       [ 404.5454545],\n",
       "       [ 424.2424242],\n",
       "       [ 443.9393939],\n",
       "       [ 463.6363636],\n",
       "       [ 483.3333333],\n",
       "       [ 503.030303 ],\n",
       "       [ 522.7272727],\n",
       "       [ 542.4242424],\n",
       "       [ 562.1212121],\n",
       "       [ 581.8181818],\n",
       "       [ 601.5151515],\n",
       "       [ 621.2121212],\n",
       "       [ 640.9090909],\n",
       "       [ 660.6060606],\n",
       "       [ 680.3030303],\n",
       "       [ 700.       ],\n",
       "       [ 719.6969697],\n",
       "       [ 739.3939394],\n",
       "       [ 759.0909091],\n",
       "       [ 778.7878788],\n",
       "       [ 798.4848485],\n",
       "       [ 818.1818182],\n",
       "       [ 837.8787879],\n",
       "       [ 857.5757576],\n",
       "       [ 877.2727273],\n",
       "       [ 896.969697 ],\n",
       "       [ 916.6666667],\n",
       "       [ 936.3636364],\n",
       "       [ 956.0606061],\n",
       "       [ 975.7575758],\n",
       "       [ 995.4545455],\n",
       "       [1015.151515 ],\n",
       "       [1034.848485 ],\n",
       "       [1054.545455 ],\n",
       "       [1074.242424 ],\n",
       "       [1093.939394 ],\n",
       "       [1113.636364 ],\n",
       "       [1133.333333 ],\n",
       "       [1153.030303 ],\n",
       "       [1172.727273 ],\n",
       "       [1192.424242 ],\n",
       "       [1212.121212 ],\n",
       "       [1231.818182 ],\n",
       "       [1251.515152 ],\n",
       "       [1271.212121 ],\n",
       "       [1290.909091 ],\n",
       "       [1310.606061 ],\n",
       "       [1330.30303  ],\n",
       "       [1350.       ],\n",
       "       [1369.69697  ],\n",
       "       [1389.393939 ],\n",
       "       [1409.090909 ],\n",
       "       [1428.787879 ],\n",
       "       [1448.484848 ],\n",
       "       [1468.181818 ],\n",
       "       [1487.878788 ],\n",
       "       [1507.575758 ],\n",
       "       [1527.272727 ],\n",
       "       [1546.969697 ],\n",
       "       [1566.666667 ],\n",
       "       [1586.363636 ],\n",
       "       [1606.060606 ],\n",
       "       [1625.757576 ],\n",
       "       [1645.454545 ],\n",
       "       [1665.151515 ],\n",
       "       [1684.848485 ],\n",
       "       [1704.545455 ],\n",
       "       [1724.242424 ],\n",
       "       [1743.939394 ],\n",
       "       [1763.636364 ],\n",
       "       [1783.333333 ],\n",
       "       [1803.030303 ],\n",
       "       [1822.727273 ],\n",
       "       [1842.424242 ],\n",
       "       [1862.121212 ],\n",
       "       [1881.818182 ],\n",
       "       [1901.515152 ],\n",
       "       [1921.212121 ],\n",
       "       [1940.909091 ],\n",
       "       [1960.606061 ],\n",
       "       [1980.30303  ],\n",
       "       [2000.       ]])"
      ]
     },
     "execution_count": 6,
     "metadata": {},
     "output_type": "execute_result"
    }
   ],
   "source": [
    "X"
   ]
  },
  {
   "cell_type": "markdown",
   "metadata": {},
   "source": [
    "- Here we got the values of X"
   ]
  },
  {
   "cell_type": "code",
   "execution_count": 15,
   "metadata": {},
   "outputs": [],
   "source": [
    "Y=dataset.iloc[:, -1].values"
   ]
  },
  {
   "cell_type": "code",
   "execution_count": 16,
   "metadata": {},
   "outputs": [
    {
     "data": {
      "text/plain": [
       "array([160.8402438, 159.4136573, 157.1368088, 159.3578474, 157.5428616,\n",
       "       157.7352072, 159.3475609, 155.2340456, 155.8077401, 158.3299704,\n",
       "       157.6258529, 160.4769795, 158.2294064, 157.4178168, 163.3706915,\n",
       "       160.184811 , 160.9683897, 158.1808067, 160.1385073, 161.6460876,\n",
       "       159.319225 , 162.5695779, 160.8138741, 161.6287337, 161.2056777,\n",
       "       166.310617 , 162.7760359, 160.8845781, 164.8420595, 160.9522521,\n",
       "       164.0086363, 159.8685385, 161.3284764, 164.5755407, 165.855721 ,\n",
       "       164.9184941, 164.5414307, 164.3674896, 162.2096227, 163.9239479,\n",
       "       164.6393285, 167.8718202, 166.641782 , 162.6254348, 166.9966528,\n",
       "       165.77529  , 165.3885802, 168.1627465, 169.1983627, 169.1958936,\n",
       "       165.851868 , 167.108848 , 168.5867693, 170.0723024, 167.3598333,\n",
       "       168.1438336, 166.4994513, 166.5166777, 170.7311123, 172.0155104,\n",
       "       169.3559798, 171.7040355, 170.6172114, 168.8006696, 171.01067  ,\n",
       "       173.5609216, 170.6101661, 174.0080752, 165.8362674, 172.9165323,\n",
       "       171.6437911, 171.068652 , 172.0471579, 168.0854682, 171.818232 ,\n",
       "       173.1687706, 175.6073032, 171.8119444, 171.4284673, 172.2389102,\n",
       "       175.2701982, 174.2938659, 172.7738129, 175.0568379, 174.4214278,\n",
       "       176.3615324, 173.2171059, 174.1628575, 174.2309352, 172.2850913,\n",
       "       176.0013315, 176.1281712, 175.8132572, 175.5308257])"
      ]
     },
     "execution_count": 16,
     "metadata": {},
     "output_type": "execute_result"
    }
   ],
   "source": [
    "Y"
   ]
  },
  {
   "cell_type": "markdown",
   "metadata": {},
   "source": [
    "- Here we got the values of Y"
   ]
  },
  {
   "cell_type": "markdown",
   "metadata": {},
   "source": [
    "## slitting data set for testing our model"
   ]
  },
  {
   "cell_type": "code",
   "execution_count": 8,
   "metadata": {},
   "outputs": [],
   "source": [
    "from sklearn.model_selection import train_test_split"
   ]
  },
  {
   "cell_type": "code",
   "execution_count": 9,
   "metadata": {},
   "outputs": [],
   "source": [
    "X_train,X_test,y_train,y_test=train_test_split(X,Y,test_size=0.2,random_state=0)"
   ]
  },
  {
   "cell_type": "markdown",
   "metadata": {},
   "source": [
    "- Here we our splitting our data for testing the model"
   ]
  },
  {
   "cell_type": "markdown",
   "metadata": {},
   "source": [
    "## Training data set using Support vector regression "
   ]
  },
  {
   "cell_type": "code",
   "execution_count": 17,
   "metadata": {},
   "outputs": [],
   "source": [
    "from sklearn.svm import SVR"
   ]
  },
  {
   "cell_type": "code",
   "execution_count": 18,
   "metadata": {},
   "outputs": [],
   "source": [
    "model=SVR()"
   ]
  },
  {
   "cell_type": "code",
   "execution_count": 19,
   "metadata": {},
   "outputs": [
    {
     "data": {
      "text/plain": [
       "SVR()"
      ]
     },
     "execution_count": 19,
     "metadata": {},
     "output_type": "execute_result"
    }
   ],
   "source": [
    "model.fit(X_train,y_train)"
   ]
  },
  {
   "cell_type": "markdown",
   "metadata": {},
   "source": [
    "- Here we our Training out data set using Support vector regression"
   ]
  },
  {
   "cell_type": "code",
   "execution_count": 22,
   "metadata": {},
   "outputs": [],
   "source": [
    "y_pred=model.predict(X_test)\n",
    "from sklearn.metrics import r2_score, mean_squared_error"
   ]
  },
  {
   "cell_type": "code",
   "execution_count": 23,
   "metadata": {},
   "outputs": [
    {
     "name": "stdout",
     "output_type": "stream",
     "text": [
      "Root Mean Square Error : 2.3594718758918574\n",
      "R2score : 86.64242661766954\n"
     ]
    }
   ],
   "source": [
    "mse=mean_squared_error(y_test,ypred)\n",
    "rmse=np.sqrt(mse)\n",
    "print(\"Root Mean Square Error :\", rmse)\n",
    "r2score=r2_score(y_test,y_pred)\n",
    "print(\"R2score :\",r2score*100)"
   ]
  },
  {
   "cell_type": "markdown",
   "metadata": {},
   "source": [
    "- Conclusion - Root Mean Square Error : 2.3594718758918574\n",
    "R2score : 86.64242661766954"
   ]
  },
  {
   "cell_type": "code",
   "execution_count": null,
   "metadata": {},
   "outputs": [],
   "source": []
  }
 ],
 "metadata": {
  "kernelspec": {
   "display_name": "Python 3",
   "language": "python",
   "name": "python3"
  },
  "language_info": {
   "codemirror_mode": {
    "name": "ipython",
    "version": 3
   },
   "file_extension": ".py",
   "mimetype": "text/x-python",
   "name": "python",
   "nbconvert_exporter": "python",
   "pygments_lexer": "ipython3",
   "version": "3.8.5"
  }
 },
 "nbformat": 4,
 "nbformat_minor": 4
}
